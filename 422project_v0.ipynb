{
 "cells": [
  {
   "cell_type": "code",
   "execution_count": 1,
   "id": "f43f9aa9-d3a3-4ca9-be01-a41f86ab50e3",
   "metadata": {},
   "outputs": [
    {
     "name": "stderr",
     "output_type": "stream",
     "text": [
      "── \u001b[1mAttaching core tidyverse packages\u001b[22m ───────────────────────────────────────────────────────────────────────────────────────────────────────────────────────────────────────── tidyverse 2.0.0 ──\n",
      "\u001b[32m✔\u001b[39m \u001b[34mdplyr    \u001b[39m 1.1.2     \u001b[32m✔\u001b[39m \u001b[34mreadr    \u001b[39m 2.1.4\n",
      "\u001b[32m✔\u001b[39m \u001b[34mforcats  \u001b[39m 1.0.0     \u001b[32m✔\u001b[39m \u001b[34mstringr  \u001b[39m 1.5.0\n",
      "\u001b[32m✔\u001b[39m \u001b[34mggplot2  \u001b[39m 3.4.3     \u001b[32m✔\u001b[39m \u001b[34mtibble   \u001b[39m 3.2.1\n",
      "\u001b[32m✔\u001b[39m \u001b[34mlubridate\u001b[39m 1.9.2     \u001b[32m✔\u001b[39m \u001b[34mtidyr    \u001b[39m 1.3.0\n",
      "\u001b[32m✔\u001b[39m \u001b[34mpurrr    \u001b[39m 1.0.2     \n",
      "── \u001b[1mConflicts\u001b[22m ─────────────────────────────────────────────────────────────────────────────────────────────────────────────────────────────────────────────────────────── tidyverse_conflicts() ──\n",
      "\u001b[31m✖\u001b[39m \u001b[34mdplyr\u001b[39m::\u001b[32mfilter()\u001b[39m masks \u001b[34mstats\u001b[39m::filter()\n",
      "\u001b[31m✖\u001b[39m \u001b[34mdplyr\u001b[39m::\u001b[32mlag()\u001b[39m    masks \u001b[34mstats\u001b[39m::lag()\n",
      "\u001b[36mℹ\u001b[39m Use the conflicted package (\u001b[3m\u001b[34m<http://conflicted.r-lib.org/>\u001b[39m\u001b[23m) to force all conflicts to become errors\n"
     ]
    }
   ],
   "source": [
    "# Load Necessary Libraries\n",
    "library(tidyverse)\n"
   ]
  },
  {
   "cell_type": "code",
   "execution_count": 2,
   "id": "210462a8-27b4-4883-9205-c0d8f5cbe9aa",
   "metadata": {},
   "outputs": [],
   "source": [
    "# Load the Data\n",
    "anime <- read.csv(\"anime.csv\")\n",
    "anime_synopsis <- read.csv(\"anime_with_synopsis.csv\")\n",
    "animelist <- read.csv(\"animelist.csv\")\n",
    "rating_complete <- read.csv(\"rating_complete.csv\")\n",
    "watching_status <- read.csv(\"watching_status.csv\")\n"
   ]
  },
  {
   "cell_type": "code",
   "execution_count": 3,
   "id": "347906f2-dfde-4bb6-8052-8bb8360e5611",
   "metadata": {},
   "outputs": [],
   "source": [
    "# Build the relational data model\n",
    "\n",
    "# Merge anime and anime_synopsis\n",
    "anime_data <- left_join(anime, anime_synopsis[, c(\"MAL_ID\", \"sypnopsis\")], by = \"MAL_ID\")\n",
    "\n",
    "# Extract a unique list of users from animelist and rating_complete.\n",
    "users <- data.frame(user_id = unique(c(animelist$user_id, rating_complete$user_id)))\n",
    "\n",
    "# Utilize animelist as the rating table.\n",
    "ratings <- animelist\n",
    "\n",
    "# Utilize watching_status to decode the watching_status column in the ratings table\n",
    "watch_status <- watching_status\n"
   ]
  },
  {
   "cell_type": "code",
   "execution_count": 4,
   "id": "1afe24dc-d6e3-42a2-ae10-57d2fa47c387",
   "metadata": {},
   "outputs": [
    {
     "data": {
      "text/html": [
       "TRUE"
      ],
      "text/latex": [
       "TRUE"
      ],
      "text/markdown": [
       "TRUE"
      ],
      "text/plain": [
       "[1] TRUE"
      ]
     },
     "metadata": {},
     "output_type": "display_data"
    },
    {
     "data": {
      "text/html": [
       "TRUE"
      ],
      "text/latex": [
       "TRUE"
      ],
      "text/markdown": [
       "TRUE"
      ],
      "text/plain": [
       "[1] TRUE"
      ]
     },
     "metadata": {},
     "output_type": "display_data"
    },
    {
     "data": {
      "text/html": [
       "FALSE"
      ],
      "text/latex": [
       "FALSE"
      ],
      "text/markdown": [
       "FALSE"
      ],
      "text/plain": [
       "[1] FALSE"
      ]
     },
     "metadata": {},
     "output_type": "display_data"
    }
   ],
   "source": [
    "# Validate Anime to Ratings Relationship\n",
    "all(ratings$user_id %in% users$user_id)\n",
    "\n",
    "# Validate User to Ratings Relationship\n",
    "all(ratings$user_id %in% users$user_id)\n",
    "\n",
    "# Validate Watching Status in Ratings\n",
    "all(ratings$watching_status %in% watch_status$status)\n"
   ]
  },
  {
   "cell_type": "code",
   "execution_count": 5,
   "id": "56f51124-b784-402e-906f-bfe04ed72e34",
   "metadata": {},
   "outputs": [],
   "source": [
    "# Explore the Relational Model\n",
    "\n",
    "# Retrieve a User's Ratings with Anime Details\n",
    "user_ratings <- ratings %>%\n",
    "  filter(user_id == sample(users$user_id, 1)) %>%  # Random user for demonstration\n",
    "  left_join(anime_data, by = c(\"anime_id\" = \"MAL_ID\"))\n",
    "\n",
    "# Retrieve Anime Ratings with Watching Status Descriptions\n",
    "anime_ratings <- ratings %>%\n",
    "  filter(anime_id == sample(anime_data$MAL_ID, 1)) %>%  # Random anime for demonstration\n",
    "  left_join(watch_status, by = c(\"watching_status\" = \"status\"))\n",
    "\n",
    "# Retrieve User Ratings with Anime and Watching Status Details\n",
    "user_ratings_detailed <- user_ratings %>%\n",
    "  left_join(watch_status, by = c(\"watching_status\" = \"status\"))\n"
   ]
  },
  {
   "cell_type": "code",
   "execution_count": 7,
   "id": "4d0c7b66-01f2-488e-aca9-4b8252d10cd6",
   "metadata": {},
   "outputs": [
    {
     "data": {
      "text/html": [
       "<table class=\"dataframe\">\n",
       "<caption>A data.frame: 6 × 36</caption>\n",
       "<thead>\n",
       "\t<tr><th></th><th scope=col>MAL_ID</th><th scope=col>Name</th><th scope=col>Score</th><th scope=col>Genres</th><th scope=col>English.name</th><th scope=col>Japanese.name</th><th scope=col>Type</th><th scope=col>Episodes</th><th scope=col>Aired</th><th scope=col>Premiered</th><th scope=col>⋯</th><th scope=col>Score.9</th><th scope=col>Score.8</th><th scope=col>Score.7</th><th scope=col>Score.6</th><th scope=col>Score.5</th><th scope=col>Score.4</th><th scope=col>Score.3</th><th scope=col>Score.2</th><th scope=col>Score.1</th><th scope=col>sypnopsis</th></tr>\n",
       "\t<tr><th></th><th scope=col>&lt;int&gt;</th><th scope=col>&lt;chr&gt;</th><th scope=col>&lt;chr&gt;</th><th scope=col>&lt;chr&gt;</th><th scope=col>&lt;chr&gt;</th><th scope=col>&lt;chr&gt;</th><th scope=col>&lt;chr&gt;</th><th scope=col>&lt;chr&gt;</th><th scope=col>&lt;chr&gt;</th><th scope=col>&lt;chr&gt;</th><th scope=col>⋯</th><th scope=col>&lt;chr&gt;</th><th scope=col>&lt;chr&gt;</th><th scope=col>&lt;chr&gt;</th><th scope=col>&lt;chr&gt;</th><th scope=col>&lt;chr&gt;</th><th scope=col>&lt;chr&gt;</th><th scope=col>&lt;chr&gt;</th><th scope=col>&lt;chr&gt;</th><th scope=col>&lt;chr&gt;</th><th scope=col>&lt;chr&gt;</th></tr>\n",
       "</thead>\n",
       "<tbody>\n",
       "\t<tr><th scope=row>1</th><td> 1</td><td>Cowboy Bebop                   </td><td>8.78</td><td>Action, Adventure, Comedy, Drama, Sci-Fi, Space    </td><td>Cowboy Bebop          </td><td>カウボーイビバップ                         </td><td>TV   </td><td>26 </td><td>Apr 3, 1998 to Apr 24, 1999 </td><td>Spring 1998</td><td>⋯</td><td>182126.0</td><td>131625.0</td><td>62330.0</td><td>20688.0</td><td>8904.0</td><td>3184.0</td><td>1357.0</td><td>741.0</td><td>1580.0</td><td>In the year 2071, humanity has colonized several of the planets and moons of the solar system leaving the now uninhabitable surface of planet Earth behind. The Inter Solar System Police attempts to keep peace in the galaxy, aided in part by outlaw bounty hunters, referred to as \"Cowboys.\" The ragtag team aboard the spaceship Bebop are two such individuals. Mellow and carefree Spike Spiegel is balanced by his boisterous, pragmatic partner Jet Black as the pair makes a living chasing bounties and collecting rewards. Thrown off course by the addition of new members that they meet in their travels—Ein, a genetically engineered, highly intelligent Welsh Corgi; femme fatale Faye Valentine, an enigmatic trickster with memory loss; and the strange computer whiz kid Edward Wong—the crew embarks on thrilling adventures that unravel each member's dark and mysterious past little by little. Well-balanced with high density action and light-hearted comedy, Cowboy Bebop is a space Western classic and an homage to the smooth and improvised music it is named after.              </td></tr>\n",
       "\t<tr><th scope=row>2</th><td> 5</td><td>Cowboy Bebop: Tengoku no Tobira</td><td>8.39</td><td>Action, Drama, Mystery, Sci-Fi, Space              </td><td>Cowboy Bebop:The Movie</td><td>カウボーイビバップ 天国の扉                </td><td>Movie</td><td>1  </td><td>Sep 1, 2001                 </td><td>Unknown    </td><td>⋯</td><td>49201.0 </td><td>49505.0 </td><td>22632.0</td><td>5805.0 </td><td>1877.0</td><td>577.0 </td><td>221.0 </td><td>109.0</td><td>379.0 </td><td>other day, another bounty—such is the life of the often unlucky crew of the Bebop. However, this routine is interrupted when Faye, who is chasing a fairly worthless target on Mars, witnesses an oil tanker suddenly explode, causing mass hysteria. As casualties mount due to a strange disease spreading through the smoke from the blast, a whopping three hundred million woolong price is placed on the head of the supposed perpetrator. With lives at stake and a solution to their money problems in sight, the Bebop crew springs into action. Spike, Jet, Faye, and Edward, followed closely by Ein, split up to pursue different leads across Alba City. Through their individual investigations, they discover a cover-up scheme involving a pharmaceutical company, revealing a plot that reaches much further than the ragtag team of bounty hunters could have realized.                                                                                                                                                                                                                             </td></tr>\n",
       "\t<tr><th scope=row>3</th><td> 6</td><td>Trigun                         </td><td>8.24</td><td>Action, Sci-Fi, Adventure, Comedy, Drama, Shounen  </td><td>Trigun                </td><td>トライガン                                 </td><td>TV   </td><td>26 </td><td>Apr 1, 1998 to Sep 30, 1998 </td><td>Spring 1998</td><td>⋯</td><td>75651.0 </td><td>86142.0 </td><td>49432.0</td><td>15376.0</td><td>5838.0</td><td>1965.0</td><td>664.0 </td><td>316.0</td><td>533.0 </td><td>Vash the Stampede is the man with a $$60,000,000,000 bounty on his head. The reason: he's a merciless villain who lays waste to all those that oppose him and flattens entire cities for fun, garnering him the title \"The Humanoid Typhoon.\" He leaves a trail of death and destruction wherever he goes, and anyone can count themselves dead if they so much as make eye contact—or so the rumors say. In actuality, Vash is a huge softie who claims to have never taken a life and avoids violence at all costs. With his crazy doughnut obsession and buffoonish attitude in tow, Vash traverses the wasteland of the planet Gunsmoke, all the while followed by two insurance agents, Meryl Stryfe and Milly Thompson, who attempt to minimize his impact on the public. But soon, their misadventures evolve into life-or-death situations as a group of legendary assassins are summoned to bring about suffering to the trio. Vash's agonizing past will be unraveled and his morality and principles pushed to the breaking point.                                                                         </td></tr>\n",
       "\t<tr><th scope=row>4</th><td> 7</td><td>Witch Hunter Robin             </td><td>7.27</td><td>Action, Mystery, Police, Supernatural, Drama, Magic</td><td>Witch Hunter Robin    </td><td>Witch Hunter ROBIN (ウイッチハンターロビン)</td><td>TV   </td><td>26 </td><td>Jul 2, 2002 to Dec 24, 2002 </td><td>Summer 2002</td><td>⋯</td><td>4806.0  </td><td>10128.0 </td><td>11618.0</td><td>5709.0 </td><td>2920.0</td><td>1083.0</td><td>353.0 </td><td>164.0</td><td>131.0 </td><td>ches are individuals with special powers like ESP, telekinesis, mind control, etc. Robin, a 15-year-old craft user, arrives from Italy to Japan to work for an organization named STN Japan Division (STN-J) as a replacement for one of STN-J's witch hunters who was recently killed. Unlike other divisions of STN, STN-J tries to capture the witches alive in order to learn why and how they became witches in the first place. (Source: ANN)                                                                                                                                                                                                                                                                                                                                                                                                                                                                                                                                                                                                                                                                    </td></tr>\n",
       "\t<tr><th scope=row>5</th><td> 8</td><td>Bouken Ou Beet                 </td><td>6.98</td><td>Adventure, Fantasy, Shounen, Supernatural          </td><td>Beet the Vandel Buster</td><td>冒険王ビィト                               </td><td>TV   </td><td>52 </td><td>Sep 30, 2004 to Sep 29, 2005</td><td>Fall 2004  </td><td>⋯</td><td>529.0   </td><td>1242.0  </td><td>1713.0 </td><td>1068.0 </td><td>634.0 </td><td>265.0 </td><td>83.0  </td><td>50.0 </td><td>27.0  </td><td>It is the dark century and the people are suffering under the rule of the devil, Vandel, who is able to manipulate monsters. The Vandel Busters are a group of people who hunt these devils, and among them, the Zenon Squad is known to be the strongest busters on the continent. A young boy, Beet, dreams of joining the Zenon Squad. However, one day, as a result of Beet's fault, the Zenon squad was defeated by the devil, Beltose. The five dying busters sacrificed their life power into their five weapons, Saiga. After giving their weapons to Beet, they passed away. Years have passed since then and the young Vandel Buster, Beet, begins his adventure to carry out the Zenon Squad's will to put an end to the dark century.                                                                                                                                                                                                                                                                                                                                                                      </td></tr>\n",
       "\t<tr><th scope=row>6</th><td>15</td><td>Eyeshield 21                   </td><td>7.95</td><td>Action, Sports, Comedy, Shounen                    </td><td>Unknown               </td><td>アイシールド21                             </td><td>TV   </td><td>145</td><td>Apr 6, 2005 to Mar 19, 2008 </td><td>Spring 2005</td><td>⋯</td><td>14904.0 </td><td>22811.0 </td><td>16734.0</td><td>6206.0 </td><td>2621.0</td><td>795.0 </td><td>336.0 </td><td>140.0</td><td>151.0 </td><td>Sena is like any other shy kid starting high school; he's just trying to survive. Constantly bullied, he's accustomed to running away. Surviving high school is about to become a lot more difficult after Hiruma, captain of the school's American football team, witnesses Sena's incredible agility and speed during an escape from some bullies. Hiruma schemes to make Sena the running back of his school team, The Devil Bats, hoping that it will turn around the squad's fortunes from being the laughingstock of Japan's high school leagues, to title contender. To protect his precious star player from rivaling recruiters, he enlists Sena as \"team secretary,\" giving him a visored helmet and the nickname \"Eyeshield 21\" to hide his identity. The Devilbats will look to make their way to the Christmas Bowl, an annual tournament attended by the best football teams in Japan, with \"Eyeshield 21\" leading the way. Will they be able to win the Christmas Bowl? Will Sena be able to transform from a timid, undersized freshman to an all-star player? Put on your pads and helmet to find out!</td></tr>\n",
       "</tbody>\n",
       "</table>\n"
      ],
      "text/latex": [
       "A data.frame: 6 × 36\n",
       "\\begin{tabular}{r|lllllllllllllllllllll}\n",
       "  & MAL\\_ID & Name & Score & Genres & English.name & Japanese.name & Type & Episodes & Aired & Premiered & ⋯ & Score.9 & Score.8 & Score.7 & Score.6 & Score.5 & Score.4 & Score.3 & Score.2 & Score.1 & sypnopsis\\\\\n",
       "  & <int> & <chr> & <chr> & <chr> & <chr> & <chr> & <chr> & <chr> & <chr> & <chr> & ⋯ & <chr> & <chr> & <chr> & <chr> & <chr> & <chr> & <chr> & <chr> & <chr> & <chr>\\\\\n",
       "\\hline\n",
       "\t1 &  1 & Cowboy Bebop                    & 8.78 & Action, Adventure, Comedy, Drama, Sci-Fi, Space     & Cowboy Bebop           & カウボーイビバップ                          & TV    & 26  & Apr 3, 1998 to Apr 24, 1999  & Spring 1998 & ⋯ & 182126.0 & 131625.0 & 62330.0 & 20688.0 & 8904.0 & 3184.0 & 1357.0 & 741.0 & 1580.0 & In the year 2071, humanity has colonized several of the planets and moons of the solar system leaving the now uninhabitable surface of planet Earth behind. The Inter Solar System Police attempts to keep peace in the galaxy, aided in part by outlaw bounty hunters, referred to as \"Cowboys.\" The ragtag team aboard the spaceship Bebop are two such individuals. Mellow and carefree Spike Spiegel is balanced by his boisterous, pragmatic partner Jet Black as the pair makes a living chasing bounties and collecting rewards. Thrown off course by the addition of new members that they meet in their travels—Ein, a genetically engineered, highly intelligent Welsh Corgi; femme fatale Faye Valentine, an enigmatic trickster with memory loss; and the strange computer whiz kid Edward Wong—the crew embarks on thrilling adventures that unravel each member's dark and mysterious past little by little. Well-balanced with high density action and light-hearted comedy, Cowboy Bebop is a space Western classic and an homage to the smooth and improvised music it is named after.              \\\\\n",
       "\t2 &  5 & Cowboy Bebop: Tengoku no Tobira & 8.39 & Action, Drama, Mystery, Sci-Fi, Space               & Cowboy Bebop:The Movie & カウボーイビバップ 天国の扉                 & Movie & 1   & Sep 1, 2001                  & Unknown     & ⋯ & 49201.0  & 49505.0  & 22632.0 & 5805.0  & 1877.0 & 577.0  & 221.0  & 109.0 & 379.0  & other day, another bounty—such is the life of the often unlucky crew of the Bebop. However, this routine is interrupted when Faye, who is chasing a fairly worthless target on Mars, witnesses an oil tanker suddenly explode, causing mass hysteria. As casualties mount due to a strange disease spreading through the smoke from the blast, a whopping three hundred million woolong price is placed on the head of the supposed perpetrator. With lives at stake and a solution to their money problems in sight, the Bebop crew springs into action. Spike, Jet, Faye, and Edward, followed closely by Ein, split up to pursue different leads across Alba City. Through their individual investigations, they discover a cover-up scheme involving a pharmaceutical company, revealing a plot that reaches much further than the ragtag team of bounty hunters could have realized.                                                                                                                                                                                                                             \\\\\n",
       "\t3 &  6 & Trigun                          & 8.24 & Action, Sci-Fi, Adventure, Comedy, Drama, Shounen   & Trigun                 & トライガン                                  & TV    & 26  & Apr 1, 1998 to Sep 30, 1998  & Spring 1998 & ⋯ & 75651.0  & 86142.0  & 49432.0 & 15376.0 & 5838.0 & 1965.0 & 664.0  & 316.0 & 533.0  & Vash the Stampede is the man with a \\$\\$60,000,000,000 bounty on his head. The reason: he's a merciless villain who lays waste to all those that oppose him and flattens entire cities for fun, garnering him the title \"The Humanoid Typhoon.\" He leaves a trail of death and destruction wherever he goes, and anyone can count themselves dead if they so much as make eye contact—or so the rumors say. In actuality, Vash is a huge softie who claims to have never taken a life and avoids violence at all costs. With his crazy doughnut obsession and buffoonish attitude in tow, Vash traverses the wasteland of the planet Gunsmoke, all the while followed by two insurance agents, Meryl Stryfe and Milly Thompson, who attempt to minimize his impact on the public. But soon, their misadventures evolve into life-or-death situations as a group of legendary assassins are summoned to bring about suffering to the trio. Vash's agonizing past will be unraveled and his morality and principles pushed to the breaking point.                                                                         \\\\\n",
       "\t4 &  7 & Witch Hunter Robin              & 7.27 & Action, Mystery, Police, Supernatural, Drama, Magic & Witch Hunter Robin     & Witch Hunter ROBIN (ウイッチハンターロビン) & TV    & 26  & Jul 2, 2002 to Dec 24, 2002  & Summer 2002 & ⋯ & 4806.0   & 10128.0  & 11618.0 & 5709.0  & 2920.0 & 1083.0 & 353.0  & 164.0 & 131.0  & ches are individuals with special powers like ESP, telekinesis, mind control, etc. Robin, a 15-year-old craft user, arrives from Italy to Japan to work for an organization named STN Japan Division (STN-J) as a replacement for one of STN-J's witch hunters who was recently killed. Unlike other divisions of STN, STN-J tries to capture the witches alive in order to learn why and how they became witches in the first place. (Source: ANN)                                                                                                                                                                                                                                                                                                                                                                                                                                                                                                                                                                                                                                                                    \\\\\n",
       "\t5 &  8 & Bouken Ou Beet                  & 6.98 & Adventure, Fantasy, Shounen, Supernatural           & Beet the Vandel Buster & 冒険王ビィト                                & TV    & 52  & Sep 30, 2004 to Sep 29, 2005 & Fall 2004   & ⋯ & 529.0    & 1242.0   & 1713.0  & 1068.0  & 634.0  & 265.0  & 83.0   & 50.0  & 27.0   & It is the dark century and the people are suffering under the rule of the devil, Vandel, who is able to manipulate monsters. The Vandel Busters are a group of people who hunt these devils, and among them, the Zenon Squad is known to be the strongest busters on the continent. A young boy, Beet, dreams of joining the Zenon Squad. However, one day, as a result of Beet's fault, the Zenon squad was defeated by the devil, Beltose. The five dying busters sacrificed their life power into their five weapons, Saiga. After giving their weapons to Beet, they passed away. Years have passed since then and the young Vandel Buster, Beet, begins his adventure to carry out the Zenon Squad's will to put an end to the dark century.                                                                                                                                                                                                                                                                                                                                                                      \\\\\n",
       "\t6 & 15 & Eyeshield 21                    & 7.95 & Action, Sports, Comedy, Shounen                     & Unknown                & アイシールド21                              & TV    & 145 & Apr 6, 2005 to Mar 19, 2008  & Spring 2005 & ⋯ & 14904.0  & 22811.0  & 16734.0 & 6206.0  & 2621.0 & 795.0  & 336.0  & 140.0 & 151.0  & Sena is like any other shy kid starting high school; he's just trying to survive. Constantly bullied, he's accustomed to running away. Surviving high school is about to become a lot more difficult after Hiruma, captain of the school's American football team, witnesses Sena's incredible agility and speed during an escape from some bullies. Hiruma schemes to make Sena the running back of his school team, The Devil Bats, hoping that it will turn around the squad's fortunes from being the laughingstock of Japan's high school leagues, to title contender. To protect his precious star player from rivaling recruiters, he enlists Sena as \"team secretary,\" giving him a visored helmet and the nickname \"Eyeshield 21\" to hide his identity. The Devilbats will look to make their way to the Christmas Bowl, an annual tournament attended by the best football teams in Japan, with \"Eyeshield 21\" leading the way. Will they be able to win the Christmas Bowl? Will Sena be able to transform from a timid, undersized freshman to an all-star player? Put on your pads and helmet to find out!\\\\\n",
       "\\end{tabular}\n"
      ],
      "text/markdown": [
       "\n",
       "A data.frame: 6 × 36\n",
       "\n",
       "| <!--/--> | MAL_ID &lt;int&gt; | Name &lt;chr&gt; | Score &lt;chr&gt; | Genres &lt;chr&gt; | English.name &lt;chr&gt; | Japanese.name &lt;chr&gt; | Type &lt;chr&gt; | Episodes &lt;chr&gt; | Aired &lt;chr&gt; | Premiered &lt;chr&gt; | ⋯ ⋯ | Score.9 &lt;chr&gt; | Score.8 &lt;chr&gt; | Score.7 &lt;chr&gt; | Score.6 &lt;chr&gt; | Score.5 &lt;chr&gt; | Score.4 &lt;chr&gt; | Score.3 &lt;chr&gt; | Score.2 &lt;chr&gt; | Score.1 &lt;chr&gt; | sypnopsis &lt;chr&gt; |\n",
       "|---|---|---|---|---|---|---|---|---|---|---|---|---|---|---|---|---|---|---|---|---|---|\n",
       "| 1 |  1 | Cowboy Bebop                    | 8.78 | Action, Adventure, Comedy, Drama, Sci-Fi, Space     | Cowboy Bebop           | カウボーイビバップ                          | TV    | 26  | Apr 3, 1998 to Apr 24, 1999  | Spring 1998 | ⋯ | 182126.0 | 131625.0 | 62330.0 | 20688.0 | 8904.0 | 3184.0 | 1357.0 | 741.0 | 1580.0 | In the year 2071, humanity has colonized several of the planets and moons of the solar system leaving the now uninhabitable surface of planet Earth behind. The Inter Solar System Police attempts to keep peace in the galaxy, aided in part by outlaw bounty hunters, referred to as \"Cowboys.\" The ragtag team aboard the spaceship Bebop are two such individuals. Mellow and carefree Spike Spiegel is balanced by his boisterous, pragmatic partner Jet Black as the pair makes a living chasing bounties and collecting rewards. Thrown off course by the addition of new members that they meet in their travels—Ein, a genetically engineered, highly intelligent Welsh Corgi; femme fatale Faye Valentine, an enigmatic trickster with memory loss; and the strange computer whiz kid Edward Wong—the crew embarks on thrilling adventures that unravel each member's dark and mysterious past little by little. Well-balanced with high density action and light-hearted comedy, Cowboy Bebop is a space Western classic and an homage to the smooth and improvised music it is named after.               |\n",
       "| 2 |  5 | Cowboy Bebop: Tengoku no Tobira | 8.39 | Action, Drama, Mystery, Sci-Fi, Space               | Cowboy Bebop:The Movie | カウボーイビバップ 天国の扉                 | Movie | 1   | Sep 1, 2001                  | Unknown     | ⋯ | 49201.0  | 49505.0  | 22632.0 | 5805.0  | 1877.0 | 577.0  | 221.0  | 109.0 | 379.0  | other day, another bounty—such is the life of the often unlucky crew of the Bebop. However, this routine is interrupted when Faye, who is chasing a fairly worthless target on Mars, witnesses an oil tanker suddenly explode, causing mass hysteria. As casualties mount due to a strange disease spreading through the smoke from the blast, a whopping three hundred million woolong price is placed on the head of the supposed perpetrator. With lives at stake and a solution to their money problems in sight, the Bebop crew springs into action. Spike, Jet, Faye, and Edward, followed closely by Ein, split up to pursue different leads across Alba City. Through their individual investigations, they discover a cover-up scheme involving a pharmaceutical company, revealing a plot that reaches much further than the ragtag team of bounty hunters could have realized.                                                                                                                                                                                                                              |\n",
       "| 3 |  6 | Trigun                          | 8.24 | Action, Sci-Fi, Adventure, Comedy, Drama, Shounen   | Trigun                 | トライガン                                  | TV    | 26  | Apr 1, 1998 to Sep 30, 1998  | Spring 1998 | ⋯ | 75651.0  | 86142.0  | 49432.0 | 15376.0 | 5838.0 | 1965.0 | 664.0  | 316.0 | 533.0  | Vash the Stampede is the man with a $$60,000,000,000 bounty on his head. The reason: he's a merciless villain who lays waste to all those that oppose him and flattens entire cities for fun, garnering him the title \"The Humanoid Typhoon.\" He leaves a trail of death and destruction wherever he goes, and anyone can count themselves dead if they so much as make eye contact—or so the rumors say. In actuality, Vash is a huge softie who claims to have never taken a life and avoids violence at all costs. With his crazy doughnut obsession and buffoonish attitude in tow, Vash traverses the wasteland of the planet Gunsmoke, all the while followed by two insurance agents, Meryl Stryfe and Milly Thompson, who attempt to minimize his impact on the public. But soon, their misadventures evolve into life-or-death situations as a group of legendary assassins are summoned to bring about suffering to the trio. Vash's agonizing past will be unraveled and his morality and principles pushed to the breaking point.                                                                          |\n",
       "| 4 |  7 | Witch Hunter Robin              | 7.27 | Action, Mystery, Police, Supernatural, Drama, Magic | Witch Hunter Robin     | Witch Hunter ROBIN (ウイッチハンターロビン) | TV    | 26  | Jul 2, 2002 to Dec 24, 2002  | Summer 2002 | ⋯ | 4806.0   | 10128.0  | 11618.0 | 5709.0  | 2920.0 | 1083.0 | 353.0  | 164.0 | 131.0  | ches are individuals with special powers like ESP, telekinesis, mind control, etc. Robin, a 15-year-old craft user, arrives from Italy to Japan to work for an organization named STN Japan Division (STN-J) as a replacement for one of STN-J's witch hunters who was recently killed. Unlike other divisions of STN, STN-J tries to capture the witches alive in order to learn why and how they became witches in the first place. (Source: ANN)                                                                                                                                                                                                                                                                                                                                                                                                                                                                                                                                                                                                                                                                     |\n",
       "| 5 |  8 | Bouken Ou Beet                  | 6.98 | Adventure, Fantasy, Shounen, Supernatural           | Beet the Vandel Buster | 冒険王ビィト                                | TV    | 52  | Sep 30, 2004 to Sep 29, 2005 | Fall 2004   | ⋯ | 529.0    | 1242.0   | 1713.0  | 1068.0  | 634.0  | 265.0  | 83.0   | 50.0  | 27.0   | It is the dark century and the people are suffering under the rule of the devil, Vandel, who is able to manipulate monsters. The Vandel Busters are a group of people who hunt these devils, and among them, the Zenon Squad is known to be the strongest busters on the continent. A young boy, Beet, dreams of joining the Zenon Squad. However, one day, as a result of Beet's fault, the Zenon squad was defeated by the devil, Beltose. The five dying busters sacrificed their life power into their five weapons, Saiga. After giving their weapons to Beet, they passed away. Years have passed since then and the young Vandel Buster, Beet, begins his adventure to carry out the Zenon Squad's will to put an end to the dark century.                                                                                                                                                                                                                                                                                                                                                                       |\n",
       "| 6 | 15 | Eyeshield 21                    | 7.95 | Action, Sports, Comedy, Shounen                     | Unknown                | アイシールド21                              | TV    | 145 | Apr 6, 2005 to Mar 19, 2008  | Spring 2005 | ⋯ | 14904.0  | 22811.0  | 16734.0 | 6206.0  | 2621.0 | 795.0  | 336.0  | 140.0 | 151.0  | Sena is like any other shy kid starting high school; he's just trying to survive. Constantly bullied, he's accustomed to running away. Surviving high school is about to become a lot more difficult after Hiruma, captain of the school's American football team, witnesses Sena's incredible agility and speed during an escape from some bullies. Hiruma schemes to make Sena the running back of his school team, The Devil Bats, hoping that it will turn around the squad's fortunes from being the laughingstock of Japan's high school leagues, to title contender. To protect his precious star player from rivaling recruiters, he enlists Sena as \"team secretary,\" giving him a visored helmet and the nickname \"Eyeshield 21\" to hide his identity. The Devilbats will look to make their way to the Christmas Bowl, an annual tournament attended by the best football teams in Japan, with \"Eyeshield 21\" leading the way. Will they be able to win the Christmas Bowl? Will Sena be able to transform from a timid, undersized freshman to an all-star player? Put on your pads and helmet to find out! |\n",
       "\n"
      ],
      "text/plain": [
       "  MAL_ID Name                            Score\n",
       "1  1     Cowboy Bebop                    8.78 \n",
       "2  5     Cowboy Bebop: Tengoku no Tobira 8.39 \n",
       "3  6     Trigun                          8.24 \n",
       "4  7     Witch Hunter Robin              7.27 \n",
       "5  8     Bouken Ou Beet                  6.98 \n",
       "6 15     Eyeshield 21                    7.95 \n",
       "  Genres                                              English.name          \n",
       "1 Action, Adventure, Comedy, Drama, Sci-Fi, Space     Cowboy Bebop          \n",
       "2 Action, Drama, Mystery, Sci-Fi, Space               Cowboy Bebop:The Movie\n",
       "3 Action, Sci-Fi, Adventure, Comedy, Drama, Shounen   Trigun                \n",
       "4 Action, Mystery, Police, Supernatural, Drama, Magic Witch Hunter Robin    \n",
       "5 Adventure, Fantasy, Shounen, Supernatural           Beet the Vandel Buster\n",
       "6 Action, Sports, Comedy, Shounen                     Unknown               \n",
       "  Japanese.name                               Type  Episodes\n",
       "1 カウボーイビバップ                          TV    26      \n",
       "2 カウボーイビバップ 天国の扉                 Movie 1       \n",
       "3 トライガン                                  TV    26      \n",
       "4 Witch Hunter ROBIN (ウイッチハンターロビン) TV    26      \n",
       "5 冒険王ビィト                                TV    52      \n",
       "6 アイシールド21                              TV    145     \n",
       "  Aired                        Premiered   ⋯ Score.9  Score.8  Score.7 Score.6\n",
       "1 Apr 3, 1998 to Apr 24, 1999  Spring 1998 ⋯ 182126.0 131625.0 62330.0 20688.0\n",
       "2 Sep 1, 2001                  Unknown     ⋯ 49201.0  49505.0  22632.0 5805.0 \n",
       "3 Apr 1, 1998 to Sep 30, 1998  Spring 1998 ⋯ 75651.0  86142.0  49432.0 15376.0\n",
       "4 Jul 2, 2002 to Dec 24, 2002  Summer 2002 ⋯ 4806.0   10128.0  11618.0 5709.0 \n",
       "5 Sep 30, 2004 to Sep 29, 2005 Fall 2004   ⋯ 529.0    1242.0   1713.0  1068.0 \n",
       "6 Apr 6, 2005 to Mar 19, 2008  Spring 2005 ⋯ 14904.0  22811.0  16734.0 6206.0 \n",
       "  Score.5 Score.4 Score.3 Score.2 Score.1\n",
       "1 8904.0  3184.0  1357.0  741.0   1580.0 \n",
       "2 1877.0  577.0   221.0   109.0   379.0  \n",
       "3 5838.0  1965.0  664.0   316.0   533.0  \n",
       "4 2920.0  1083.0  353.0   164.0   131.0  \n",
       "5 634.0   265.0   83.0    50.0    27.0   \n",
       "6 2621.0  795.0   336.0   140.0   151.0  \n",
       "  sypnopsis                                                                                                                                                                                                                                                                                                                                                                                                                                                                                                                                                                                                                                                                                                                                                                                                                                                                                                                                                                                                                                                                                                              \n",
       "1 In the year 2071, humanity has colonized several of the planets and moons of the solar system leaving the now uninhabitable surface of planet Earth behind. The Inter Solar System Police attempts to keep peace in the galaxy, aided in part by outlaw bounty hunters, referred to as \"Cowboys.\" The ragtag team aboard the spaceship Bebop are two such individuals. Mellow and carefree Spike Spiegel is balanced by his boisterous, pragmatic partner Jet Black as the pair makes a living chasing bounties and collecting rewards. Thrown off course by the addition of new members that they meet in their travels—Ein, a genetically engineered, highly intelligent Welsh Corgi; femme fatale Faye Valentine, an enigmatic trickster with memory loss; and the strange computer whiz kid Edward Wong—the crew embarks on thrilling adventures that unravel each member's dark and mysterious past little by little. Well-balanced with high density action and light-hearted comedy, Cowboy Bebop is a space Western classic and an homage to the smooth and improvised music it is named after.              \n",
       "2 other day, another bounty—such is the life of the often unlucky crew of the Bebop. However, this routine is interrupted when Faye, who is chasing a fairly worthless target on Mars, witnesses an oil tanker suddenly explode, causing mass hysteria. As casualties mount due to a strange disease spreading through the smoke from the blast, a whopping three hundred million woolong price is placed on the head of the supposed perpetrator. With lives at stake and a solution to their money problems in sight, the Bebop crew springs into action. Spike, Jet, Faye, and Edward, followed closely by Ein, split up to pursue different leads across Alba City. Through their individual investigations, they discover a cover-up scheme involving a pharmaceutical company, revealing a plot that reaches much further than the ragtag team of bounty hunters could have realized.                                                                                                                                                                                                                             \n",
       "3 Vash the Stampede is the man with a $$60,000,000,000 bounty on his head. The reason: he's a merciless villain who lays waste to all those that oppose him and flattens entire cities for fun, garnering him the title \"The Humanoid Typhoon.\" He leaves a trail of death and destruction wherever he goes, and anyone can count themselves dead if they so much as make eye contact—or so the rumors say. In actuality, Vash is a huge softie who claims to have never taken a life and avoids violence at all costs. With his crazy doughnut obsession and buffoonish attitude in tow, Vash traverses the wasteland of the planet Gunsmoke, all the while followed by two insurance agents, Meryl Stryfe and Milly Thompson, who attempt to minimize his impact on the public. But soon, their misadventures evolve into life-or-death situations as a group of legendary assassins are summoned to bring about suffering to the trio. Vash's agonizing past will be unraveled and his morality and principles pushed to the breaking point.                                                                         \n",
       "4 ches are individuals with special powers like ESP, telekinesis, mind control, etc. Robin, a 15-year-old craft user, arrives from Italy to Japan to work for an organization named STN Japan Division (STN-J) as a replacement for one of STN-J's witch hunters who was recently killed. Unlike other divisions of STN, STN-J tries to capture the witches alive in order to learn why and how they became witches in the first place. (Source: ANN)                                                                                                                                                                                                                                                                                                                                                                                                                                                                                                                                                                                                                                                                    \n",
       "5 It is the dark century and the people are suffering under the rule of the devil, Vandel, who is able to manipulate monsters. The Vandel Busters are a group of people who hunt these devils, and among them, the Zenon Squad is known to be the strongest busters on the continent. A young boy, Beet, dreams of joining the Zenon Squad. However, one day, as a result of Beet's fault, the Zenon squad was defeated by the devil, Beltose. The five dying busters sacrificed their life power into their five weapons, Saiga. After giving their weapons to Beet, they passed away. Years have passed since then and the young Vandel Buster, Beet, begins his adventure to carry out the Zenon Squad's will to put an end to the dark century.                                                                                                                                                                                                                                                                                                                                                                      \n",
       "6 Sena is like any other shy kid starting high school; he's just trying to survive. Constantly bullied, he's accustomed to running away. Surviving high school is about to become a lot more difficult after Hiruma, captain of the school's American football team, witnesses Sena's incredible agility and speed during an escape from some bullies. Hiruma schemes to make Sena the running back of his school team, The Devil Bats, hoping that it will turn around the squad's fortunes from being the laughingstock of Japan's high school leagues, to title contender. To protect his precious star player from rivaling recruiters, he enlists Sena as \"team secretary,\" giving him a visored helmet and the nickname \"Eyeshield 21\" to hide his identity. The Devilbats will look to make their way to the Christmas Bowl, an annual tournament attended by the best football teams in Japan, with \"Eyeshield 21\" leading the way. Will they be able to win the Christmas Bowl? Will Sena be able to transform from a timid, undersized freshman to an all-star player? Put on your pads and helmet to find out!"
      ]
     },
     "metadata": {},
     "output_type": "display_data"
    },
    {
     "data": {
      "text/html": [
       "<table class=\"dataframe\">\n",
       "<caption>A data.frame: 6 × 1</caption>\n",
       "<thead>\n",
       "\t<tr><th></th><th scope=col>user_id</th></tr>\n",
       "\t<tr><th></th><th scope=col>&lt;int&gt;</th></tr>\n",
       "</thead>\n",
       "<tbody>\n",
       "\t<tr><th scope=row>1</th><td>0</td></tr>\n",
       "\t<tr><th scope=row>2</th><td>1</td></tr>\n",
       "\t<tr><th scope=row>3</th><td>2</td></tr>\n",
       "\t<tr><th scope=row>4</th><td>3</td></tr>\n",
       "\t<tr><th scope=row>5</th><td>4</td></tr>\n",
       "\t<tr><th scope=row>6</th><td>5</td></tr>\n",
       "</tbody>\n",
       "</table>\n"
      ],
      "text/latex": [
       "A data.frame: 6 × 1\n",
       "\\begin{tabular}{r|l}\n",
       "  & user\\_id\\\\\n",
       "  & <int>\\\\\n",
       "\\hline\n",
       "\t1 & 0\\\\\n",
       "\t2 & 1\\\\\n",
       "\t3 & 2\\\\\n",
       "\t4 & 3\\\\\n",
       "\t5 & 4\\\\\n",
       "\t6 & 5\\\\\n",
       "\\end{tabular}\n"
      ],
      "text/markdown": [
       "\n",
       "A data.frame: 6 × 1\n",
       "\n",
       "| <!--/--> | user_id &lt;int&gt; |\n",
       "|---|---|\n",
       "| 1 | 0 |\n",
       "| 2 | 1 |\n",
       "| 3 | 2 |\n",
       "| 4 | 3 |\n",
       "| 5 | 4 |\n",
       "| 6 | 5 |\n",
       "\n"
      ],
      "text/plain": [
       "  user_id\n",
       "1 0      \n",
       "2 1      \n",
       "3 2      \n",
       "4 3      \n",
       "5 4      \n",
       "6 5      "
      ]
     },
     "metadata": {},
     "output_type": "display_data"
    },
    {
     "data": {
      "text/html": [
       "<table class=\"dataframe\">\n",
       "<caption>A data.frame: 6 × 5</caption>\n",
       "<thead>\n",
       "\t<tr><th></th><th scope=col>user_id</th><th scope=col>anime_id</th><th scope=col>rating</th><th scope=col>watching_status</th><th scope=col>watched_episodes</th></tr>\n",
       "\t<tr><th></th><th scope=col>&lt;int&gt;</th><th scope=col>&lt;int&gt;</th><th scope=col>&lt;int&gt;</th><th scope=col>&lt;int&gt;</th><th scope=col>&lt;int&gt;</th></tr>\n",
       "</thead>\n",
       "<tbody>\n",
       "\t<tr><th scope=row>1</th><td>0</td><td>  67</td><td> 9</td><td>1</td><td>1</td></tr>\n",
       "\t<tr><th scope=row>2</th><td>0</td><td>6702</td><td> 7</td><td>1</td><td>4</td></tr>\n",
       "\t<tr><th scope=row>3</th><td>0</td><td> 242</td><td>10</td><td>1</td><td>4</td></tr>\n",
       "\t<tr><th scope=row>4</th><td>0</td><td>4898</td><td> 0</td><td>1</td><td>1</td></tr>\n",
       "\t<tr><th scope=row>5</th><td>0</td><td>  21</td><td>10</td><td>1</td><td>0</td></tr>\n",
       "\t<tr><th scope=row>6</th><td>0</td><td>  24</td><td> 9</td><td>1</td><td>5</td></tr>\n",
       "</tbody>\n",
       "</table>\n"
      ],
      "text/latex": [
       "A data.frame: 6 × 5\n",
       "\\begin{tabular}{r|lllll}\n",
       "  & user\\_id & anime\\_id & rating & watching\\_status & watched\\_episodes\\\\\n",
       "  & <int> & <int> & <int> & <int> & <int>\\\\\n",
       "\\hline\n",
       "\t1 & 0 &   67 &  9 & 1 & 1\\\\\n",
       "\t2 & 0 & 6702 &  7 & 1 & 4\\\\\n",
       "\t3 & 0 &  242 & 10 & 1 & 4\\\\\n",
       "\t4 & 0 & 4898 &  0 & 1 & 1\\\\\n",
       "\t5 & 0 &   21 & 10 & 1 & 0\\\\\n",
       "\t6 & 0 &   24 &  9 & 1 & 5\\\\\n",
       "\\end{tabular}\n"
      ],
      "text/markdown": [
       "\n",
       "A data.frame: 6 × 5\n",
       "\n",
       "| <!--/--> | user_id &lt;int&gt; | anime_id &lt;int&gt; | rating &lt;int&gt; | watching_status &lt;int&gt; | watched_episodes &lt;int&gt; |\n",
       "|---|---|---|---|---|---|\n",
       "| 1 | 0 |   67 |  9 | 1 | 1 |\n",
       "| 2 | 0 | 6702 |  7 | 1 | 4 |\n",
       "| 3 | 0 |  242 | 10 | 1 | 4 |\n",
       "| 4 | 0 | 4898 |  0 | 1 | 1 |\n",
       "| 5 | 0 |   21 | 10 | 1 | 0 |\n",
       "| 6 | 0 |   24 |  9 | 1 | 5 |\n",
       "\n"
      ],
      "text/plain": [
       "  user_id anime_id rating watching_status watched_episodes\n",
       "1 0         67      9     1               1               \n",
       "2 0       6702      7     1               4               \n",
       "3 0        242     10     1               4               \n",
       "4 0       4898      0     1               1               \n",
       "5 0         21     10     1               0               \n",
       "6 0         24      9     1               5               "
      ]
     },
     "metadata": {},
     "output_type": "display_data"
    },
    {
     "data": {
      "text/html": [
       "<table class=\"dataframe\">\n",
       "<caption>A data.frame: 5 × 2</caption>\n",
       "<thead>\n",
       "\t<tr><th></th><th scope=col>status</th><th scope=col>description</th></tr>\n",
       "\t<tr><th></th><th scope=col>&lt;int&gt;</th><th scope=col>&lt;chr&gt;</th></tr>\n",
       "</thead>\n",
       "<tbody>\n",
       "\t<tr><th scope=row>1</th><td>1</td><td>Currently Watching</td></tr>\n",
       "\t<tr><th scope=row>2</th><td>2</td><td>Completed         </td></tr>\n",
       "\t<tr><th scope=row>3</th><td>3</td><td>On Hold           </td></tr>\n",
       "\t<tr><th scope=row>4</th><td>4</td><td>Dropped           </td></tr>\n",
       "\t<tr><th scope=row>5</th><td>6</td><td>Plan to Watch     </td></tr>\n",
       "</tbody>\n",
       "</table>\n"
      ],
      "text/latex": [
       "A data.frame: 5 × 2\n",
       "\\begin{tabular}{r|ll}\n",
       "  & status & description\\\\\n",
       "  & <int> & <chr>\\\\\n",
       "\\hline\n",
       "\t1 & 1 & Currently Watching\\\\\n",
       "\t2 & 2 & Completed         \\\\\n",
       "\t3 & 3 & On Hold           \\\\\n",
       "\t4 & 4 & Dropped           \\\\\n",
       "\t5 & 6 & Plan to Watch     \\\\\n",
       "\\end{tabular}\n"
      ],
      "text/markdown": [
       "\n",
       "A data.frame: 5 × 2\n",
       "\n",
       "| <!--/--> | status &lt;int&gt; | description &lt;chr&gt; |\n",
       "|---|---|---|\n",
       "| 1 | 1 | Currently Watching |\n",
       "| 2 | 2 | Completed          |\n",
       "| 3 | 3 | On Hold            |\n",
       "| 4 | 4 | Dropped            |\n",
       "| 5 | 6 | Plan to Watch      |\n",
       "\n"
      ],
      "text/plain": [
       "  status description       \n",
       "1 1      Currently Watching\n",
       "2 2      Completed         \n",
       "3 3      On Hold           \n",
       "4 4      Dropped           \n",
       "5 6      Plan to Watch     "
      ]
     },
     "metadata": {},
     "output_type": "display_data"
    }
   ],
   "source": [
    "# Check the Model\n",
    "\n",
    "# Check the content\n",
    "head(anime_data)\n",
    "head(users)\n",
    "head(ratings)\n",
    "head(watch_status)\n"
   ]
  },
  {
   "cell_type": "code",
   "execution_count": 8,
   "id": "b481fd5d-d33a-4acf-83c5-0e985a3589ac",
   "metadata": {},
   "outputs": [
    {
     "data": {
      "text/html": [
       "0"
      ],
      "text/latex": [
       "0"
      ],
      "text/markdown": [
       "0"
      ],
      "text/plain": [
       "[1] 0"
      ]
     },
     "metadata": {},
     "output_type": "display_data"
    },
    {
     "data": {
      "text/html": [
       "0"
      ],
      "text/latex": [
       "0"
      ],
      "text/markdown": [
       "0"
      ],
      "text/plain": [
       "[1] 0"
      ]
     },
     "metadata": {},
     "output_type": "display_data"
    },
    {
     "data": {
      "text/html": [
       "0"
      ],
      "text/latex": [
       "0"
      ],
      "text/markdown": [
       "0"
      ],
      "text/plain": [
       "[1] 0"
      ]
     },
     "metadata": {},
     "output_type": "display_data"
    }
   ],
   "source": [
    "# Unique watching_status values in ratings\n",
    "unique_watching_status_ratings <- unique(ratings$watching_status)\n",
    "\n",
    "# Unique status values in watch_status\n",
    "unique_status_watch_status <- unique(watch_status$status)\n",
    "\n",
    "# Check if there are any watching_status values in ratings that are not in watch_status\n",
    "mismatch_status <- setdiff(unique_watching_status_ratings, unique_status_watch_status)\n",
    "\n",
    "# Check the entries with mismatched watching_status in ratings\n",
    "mismatched_entries <- ratings[ratings$watching_status %in% mismatch_status, ]\n",
    "\n",
    "# Check the class of key columns\n",
    "class_anime_id_ratings <- class(ratings$anime_id)\n",
    "class_MAL_ID_anime_data <- class(anime_data$MAL_ID)\n",
    "class_user_id_ratings <- class(ratings$user_id)\n",
    "class_user_id_users <- class(users$user_id)\n",
    "class_watching_status_ratings <- class(ratings$watching_status)\n",
    "class_status_watch_status <- class(watch_status$status)\n",
    "\n",
    "# Check for duplicate MAL_ID in anime_data\n",
    "anyDuplicated(anime_data$MAL_ID)\n",
    "\n",
    "# Check for duplicate user_id in users\n",
    "anyDuplicated(users$user_id)\n",
    "\n",
    "# Check for duplicate status in watch_status\n",
    "anyDuplicated(watch_status$status)\n"
   ]
  },
  {
   "cell_type": "code",
   "execution_count": null,
   "id": "7d81d149-2d25-492e-a03e-d2b7187cb802",
   "metadata": {},
   "outputs": [],
   "source": []
  }
 ],
 "metadata": {
  "kernelspec": {
   "display_name": "R",
   "language": "R",
   "name": "ir"
  },
  "language_info": {
   "codemirror_mode": "r",
   "file_extension": ".r",
   "mimetype": "text/x-r-source",
   "name": "R",
   "pygments_lexer": "r",
   "version": "4.2.2"
  }
 },
 "nbformat": 4,
 "nbformat_minor": 5
}
